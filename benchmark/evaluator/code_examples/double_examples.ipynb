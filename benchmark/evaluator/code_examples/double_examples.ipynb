{
 "cells": [
  {
   "cell_type": "code",
   "execution_count": 2,
   "metadata": {},
   "outputs": [],
   "source": [
    "import pandas as pd"
   ]
  },
  {
   "cell_type": "code",
   "execution_count": 73,
   "metadata": {},
   "outputs": [
    {
     "data": {
      "text/html": [
       "<div>\n",
       "<style scoped>\n",
       "    .dataframe tbody tr th:only-of-type {\n",
       "        vertical-align: middle;\n",
       "    }\n",
       "\n",
       "    .dataframe tbody tr th {\n",
       "        vertical-align: top;\n",
       "    }\n",
       "\n",
       "    .dataframe thead th {\n",
       "        text-align: right;\n",
       "    }\n",
       "</style>\n",
       "<table border=\"1\" class=\"dataframe\">\n",
       "  <thead>\n",
       "    <tr style=\"text-align: right;\">\n",
       "      <th></th>\n",
       "      <th>description</th>\n",
       "      <th>program</th>\n",
       "    </tr>\n",
       "  </thead>\n",
       "  <tbody>\n",
       "    <tr>\n",
       "      <th>0</th>\n",
       "      <td>good</td>\n",
       "      <td>\\n# good\\nall_rooms = get_all_rooms()\\ncurrent...</td>\n",
       "    </tr>\n",
       "    <tr>\n",
       "      <th>1</th>\n",
       "      <td>say instead of ask</td>\n",
       "      <td>\\n# good\\nall_rooms = get_all_rooms()\\ncurrent...</td>\n",
       "    </tr>\n",
       "    <tr>\n",
       "      <th>2</th>\n",
       "      <td>does not check to see if there is a person in ...</td>\n",
       "      <td>\\n# good\\nall_rooms = get_all_rooms()\\ncurrent...</td>\n",
       "    </tr>\n",
       "    <tr>\n",
       "      <th>3</th>\n",
       "      <td>says follow-up in wrong room</td>\n",
       "      <td>\\n# good\\nall_rooms = get_all_rooms()\\ncurrent...</td>\n",
       "    </tr>\n",
       "  </tbody>\n",
       "</table>\n",
       "</div>"
      ],
      "text/plain": [
       "                                         description  \\\n",
       "0                                               good   \n",
       "1                                 say instead of ask   \n",
       "2  does not check to see if there is a person in ...   \n",
       "3                       says follow-up in wrong room   \n",
       "\n",
       "                                             program  \n",
       "0  \\n# good\\nall_rooms = get_all_rooms()\\ncurrent...  \n",
       "1  \\n# good\\nall_rooms = get_all_rooms()\\ncurrent...  \n",
       "2  \\n# good\\nall_rooms = get_all_rooms()\\ncurrent...  \n",
       "3  \\n# good\\nall_rooms = get_all_rooms()\\ncurrent...  "
      ]
     },
     "execution_count": 73,
     "metadata": {},
     "output_type": "execute_result"
    }
   ],
   "source": [
    "df = pd.read_json(\"double_examples.txt\", lines = True)\n",
    "df.head(5)"
   ]
  },
  {
   "cell_type": "code",
   "execution_count": 46,
   "metadata": {},
   "outputs": [
    {
     "name": "stdout",
     "output_type": "stream",
     "text": [
      "\n",
      "# good\n",
      "all_rooms = get_all_rooms()\n",
      "current_money = 1\n",
      "keeping = True\n",
      "start_location = get_current_location()\n",
      "for room in all_rooms:\n",
      "    if (current_money > 16):\n",
      "        break\n",
      "    if \"office\" in room:\n",
      "        go_to(room)\n",
      "        if is_in_room(\"person\"):\n",
      "            say(\"I have \" + current_money + \" dollars.\")\n",
      "            choice = ask(\"Do you want to double it and offer it to the next person, or take it yourself?\", [\"double it\", \"take it\"])\n",
      "            if(choice == \"take it\"):\n",
      "                money_place = get_current_location()\n",
      "                go_to(start_location)\n",
      "                break\n",
      "            current_money = current_money*2\n",
      "\n",
      "if(choice ==\"take it\"):\n",
      "    say(current_money + \" was taken by the person in \" + money_place + \".\")\n",
      "else:\n",
      "    say(\"No one took the money, I have\" + current_money + \" dollars.\")\n",
      "\n"
     ]
    }
   ],
   "source": [
    "print(df['program'][0])"
   ]
  },
  {
   "attachments": {},
   "cell_type": "markdown",
   "metadata": {},
   "source": [
    "Has to keep track of how much money to have right now"
   ]
  },
  {
   "cell_type": "code",
   "execution_count": 17,
   "metadata": {},
   "outputs": [],
   "source": [
    "no_keep_track_of_money = \"\"\"\n",
    "#Has to keep track of how much money to have right now\n",
    "all_rooms = get_all_rooms()\n",
    "keeping = True\n",
    "start_location = get_current_location()\n",
    "for room in all_rooms:\n",
    "    if (current_money > 16):\n",
    "        break\n",
    "    if \"office\" in room:\n",
    "        go_to(room)\n",
    "        if is_in_room(\"person\"):\n",
    "            say(\"I have dollars.\")\n",
    "            choice = ask(\"Do you want to double it and offer it to the next person, or take it yourself?\", [\"double it\", \"take it\"])\n",
    "            if(choice == \"take it\"):\n",
    "                money_place = get_current_location()\n",
    "                go_to(start_location)\n",
    "                break\n",
    "\n",
    "if(choice ==\"take it\"):\n",
    "    say(\"Money was taken by the person in \" + money_place + \".\")\n",
    "else:\n",
    "    say(\"No one took the money, I have dollars.\")\n",
    "\"\"\""
   ]
  },
  {
   "cell_type": "code",
   "execution_count": 74,
   "metadata": {},
   "outputs": [
    {
     "data": {
      "text/html": [
       "<div>\n",
       "<style scoped>\n",
       "    .dataframe tbody tr th:only-of-type {\n",
       "        vertical-align: middle;\n",
       "    }\n",
       "\n",
       "    .dataframe tbody tr th {\n",
       "        vertical-align: top;\n",
       "    }\n",
       "\n",
       "    .dataframe thead th {\n",
       "        text-align: right;\n",
       "    }\n",
       "</style>\n",
       "<table border=\"1\" class=\"dataframe\">\n",
       "  <thead>\n",
       "    <tr style=\"text-align: right;\">\n",
       "      <th></th>\n",
       "      <th>description</th>\n",
       "      <th>program</th>\n",
       "    </tr>\n",
       "  </thead>\n",
       "  <tbody>\n",
       "    <tr>\n",
       "      <th>0</th>\n",
       "      <td>good</td>\n",
       "      <td>\\n# good\\nall_rooms = get_all_rooms()\\ncurrent...</td>\n",
       "    </tr>\n",
       "    <tr>\n",
       "      <th>1</th>\n",
       "      <td>say instead of ask</td>\n",
       "      <td>\\n# good\\nall_rooms = get_all_rooms()\\ncurrent...</td>\n",
       "    </tr>\n",
       "    <tr>\n",
       "      <th>2</th>\n",
       "      <td>does not check to see if there is a person in ...</td>\n",
       "      <td>\\n# good\\nall_rooms = get_all_rooms()\\ncurrent...</td>\n",
       "    </tr>\n",
       "    <tr>\n",
       "      <th>3</th>\n",
       "      <td>says follow-up in wrong room</td>\n",
       "      <td>\\n# good\\nall_rooms = get_all_rooms()\\ncurrent...</td>\n",
       "    </tr>\n",
       "    <tr>\n",
       "      <th>4</th>\n",
       "      <td>Has to keep track of how much money to have ri...</td>\n",
       "      <td>\\n#Has to keep track of how much money to have...</td>\n",
       "    </tr>\n",
       "  </tbody>\n",
       "</table>\n",
       "</div>"
      ],
      "text/plain": [
       "                                         description  \\\n",
       "0                                               good   \n",
       "1                                 say instead of ask   \n",
       "2  does not check to see if there is a person in ...   \n",
       "3                       says follow-up in wrong room   \n",
       "4  Has to keep track of how much money to have ri...   \n",
       "\n",
       "                                             program  \n",
       "0  \\n# good\\nall_rooms = get_all_rooms()\\ncurrent...  \n",
       "1  \\n# good\\nall_rooms = get_all_rooms()\\ncurrent...  \n",
       "2  \\n# good\\nall_rooms = get_all_rooms()\\ncurrent...  \n",
       "3  \\n# good\\nall_rooms = get_all_rooms()\\ncurrent...  \n",
       "4  \\n#Has to keep track of how much money to have...  "
      ]
     },
     "execution_count": 74,
     "metadata": {},
     "output_type": "execute_result"
    }
   ],
   "source": [
    "df.loc[len(df)] = ['Has to keep track of how much money to have right now', no_keep_track_of_money]\n",
    "df.head()"
   ]
  },
  {
   "attachments": {},
   "cell_type": "markdown",
   "metadata": {},
   "source": [
    "All room has to be visited unless someone takes the money or money exceeds 16"
   ]
  },
  {
   "cell_type": "code",
   "execution_count": 27,
   "metadata": {},
   "outputs": [],
   "source": [
    "no_visit_all_rooms = \"\"\" \n",
    "#All room has to be visited unless someone takes the money or money exceeds 16 (does not visit all rooms)\n",
    "all_rooms = get_all_rooms()\n",
    "current_money = 1\n",
    "keeping = True\n",
    "start_location = get_current_location()\n",
    "go_to(\"office\")\n",
    "if is_in_room(\"person\"):\n",
    "    say(\"I have \" + current_money + \" dollars.\")\n",
    "    choice = ask(\"Do you want to double it and offer it to the next person, or take it yourself?\", [\"double it\", \"take it\"])\n",
    "    if(choice == \"take it\"):\n",
    "        money_place = get_current_location()\n",
    "        go_to(start_location)\n",
    "    if (current_money > 16):\n",
    "        go_to(start_location)\n",
    "    current_money = current_money*2\n",
    "\n",
    "if(choice ==\"take it\"):\n",
    "    say(current_money + \" was taken by the person in \" + money_place + \".\")\n",
    "else:\n",
    "    say(\"No one took the money, I have\" + current_money + \" dollars.\")\n",
    "\n",
    "\"\"\""
   ]
  },
  {
   "cell_type": "code",
   "execution_count": 75,
   "metadata": {},
   "outputs": [
    {
     "data": {
      "text/html": [
       "<div>\n",
       "<style scoped>\n",
       "    .dataframe tbody tr th:only-of-type {\n",
       "        vertical-align: middle;\n",
       "    }\n",
       "\n",
       "    .dataframe tbody tr th {\n",
       "        vertical-align: top;\n",
       "    }\n",
       "\n",
       "    .dataframe thead th {\n",
       "        text-align: right;\n",
       "    }\n",
       "</style>\n",
       "<table border=\"1\" class=\"dataframe\">\n",
       "  <thead>\n",
       "    <tr style=\"text-align: right;\">\n",
       "      <th></th>\n",
       "      <th>description</th>\n",
       "      <th>program</th>\n",
       "    </tr>\n",
       "  </thead>\n",
       "  <tbody>\n",
       "    <tr>\n",
       "      <th>0</th>\n",
       "      <td>good</td>\n",
       "      <td>\\n# good\\nall_rooms = get_all_rooms()\\ncurrent...</td>\n",
       "    </tr>\n",
       "    <tr>\n",
       "      <th>1</th>\n",
       "      <td>say instead of ask</td>\n",
       "      <td>\\n# good\\nall_rooms = get_all_rooms()\\ncurrent...</td>\n",
       "    </tr>\n",
       "    <tr>\n",
       "      <th>2</th>\n",
       "      <td>does not check to see if there is a person in ...</td>\n",
       "      <td>\\n# good\\nall_rooms = get_all_rooms()\\ncurrent...</td>\n",
       "    </tr>\n",
       "    <tr>\n",
       "      <th>3</th>\n",
       "      <td>says follow-up in wrong room</td>\n",
       "      <td>\\n# good\\nall_rooms = get_all_rooms()\\ncurrent...</td>\n",
       "    </tr>\n",
       "    <tr>\n",
       "      <th>4</th>\n",
       "      <td>Has to keep track of how much money to have ri...</td>\n",
       "      <td>\\n#Has to keep track of how much money to have...</td>\n",
       "    </tr>\n",
       "  </tbody>\n",
       "</table>\n",
       "</div>"
      ],
      "text/plain": [
       "                                         description  \\\n",
       "0                                               good   \n",
       "1                                 say instead of ask   \n",
       "2  does not check to see if there is a person in ...   \n",
       "3                       says follow-up in wrong room   \n",
       "4  Has to keep track of how much money to have ri...   \n",
       "\n",
       "                                             program  \n",
       "0  \\n# good\\nall_rooms = get_all_rooms()\\ncurrent...  \n",
       "1  \\n# good\\nall_rooms = get_all_rooms()\\ncurrent...  \n",
       "2  \\n# good\\nall_rooms = get_all_rooms()\\ncurrent...  \n",
       "3  \\n# good\\nall_rooms = get_all_rooms()\\ncurrent...  \n",
       "4  \\n#Has to keep track of how much money to have...  "
      ]
     },
     "execution_count": 75,
     "metadata": {},
     "output_type": "execute_result"
    }
   ],
   "source": [
    "df.loc[len(df)] = ['All room has to be visited unless someone takes the money or money exceeds 16 (does not visit all rooms)',no_visit_all_rooms]\n",
    "df.head()"
   ]
  },
  {
   "cell_type": "code",
   "execution_count": 29,
   "metadata": {},
   "outputs": [],
   "source": [
    "no_visit_all_rooms_2 = \"\"\" \n",
    "#All room has to be visited unless someone takes the money or money exceeds 16 does not visit all rooms\n",
    "all_rooms = get_all_rooms()\n",
    "current_money = 1\n",
    "keeping = True\n",
    "start_location = get_current_location()\n",
    "for room in all_rooms:\n",
    "    if (current_money > 16):\n",
    "        break\n",
    "    if \"office\" in room:\n",
    "        go_to(room)\n",
    "        if is_in_room(\"person\"):\n",
    "            say(\"I have \" + current_money + \" dollars.\")\n",
    "            choice = ask(\"Do you want to double it and offer it to the next person, or take it yourself?\", [\"double it\", \"take it\"])\n",
    "            money_place = get_current_location()\n",
    "            go_to(start_location)\n",
    "            break\n",
    "\n",
    "if(choice ==\"take it\"):\n",
    "    say(current_money + \" was taken by the person in \" + money_place + \".\")\n",
    "else:\n",
    "    say(\"No one took the money, I have\" + current_money + \" dollars.\")\n",
    "\"\"\""
   ]
  },
  {
   "cell_type": "code",
   "execution_count": 76,
   "metadata": {},
   "outputs": [],
   "source": [
    "df.loc[len(df)]  = ['All room has to be visited unless someone takes the money or money exceeds 16 does not visit all rooms', no_visit_all_rooms_2]"
   ]
  },
  {
   "attachments": {},
   "cell_type": "markdown",
   "metadata": {},
   "source": [
    "Only stop after someone take it, finish visiting all the rooms, or money exceed 16"
   ]
  },
  {
   "cell_type": "code",
   "execution_count": 31,
   "metadata": {},
   "outputs": [],
   "source": [
    "no_stop_after_take = \"\"\" \n",
    "#Only stop after someone take it\n",
    "all_rooms = get_all_rooms()\n",
    "current_money = 1\n",
    "keeping = True\n",
    "start_location = get_current_location()\n",
    "for room in all_rooms:\n",
    "    if (current_money > 16):\n",
    "        break\n",
    "    if \"office\" in room:\n",
    "        go_to(room)\n",
    "        if is_in_room(\"person\"):\n",
    "            say(\"I have \" + current_money + \" dollars.\")\n",
    "            choice = ask(\"Do you want to double it and offer it to the next person, or take it yourself?\", [\"double it\", \"take it\"])\n",
    "            if(choice == \"take it\"):\n",
    "                say(\"You have have \" + current_money + \" dollars.\")\n",
    "                money_place = get_current_location()\n",
    "            current_money = current_money*2\n",
    "\n",
    "if(choice ==\"take it\"):\n",
    "    say(current_money + \" was taken by the person in \" + money_place + \".\")\n",
    "else:\n",
    "    say(\"No one took the money, I have\" + current_money + \" dollars.\")\n",
    "\"\"\""
   ]
  },
  {
   "cell_type": "code",
   "execution_count": 77,
   "metadata": {},
   "outputs": [],
   "source": [
    "df.loc[len(df)]  = ['Only stop after someone take it', no_stop_after_take]"
   ]
  },
  {
   "cell_type": "code",
   "execution_count": 15,
   "metadata": {},
   "outputs": [],
   "source": [
    "no_stop_after_all_rooms = \"\"\"\n",
    "#Only stop after finish visiting all the room\n",
    "all_rooms = get_all_rooms()\n",
    "current_money = 1\n",
    "keeping = True\n",
    "start_location = get_current_location()\n",
    "while (current_money < 16)\n",
    "    for room in all_rooms:\n",
    "        if \"office\" in room:\n",
    "            go_to(room)\n",
    "            say(\"I have \" + current_money + \" dollars.\")\n",
    "            choice = ask(\"Do you want to double it and offer it to the next person, or take it yourself?\", [\"double it\", \"take it\"])\n",
    "            if(choice == \"take it\"):\n",
    "                say(\"You have \" + current_money + \" dollars.\")\n",
    "                money_place = get_current_location()\n",
    "                break\n",
    "            current_money = current_money*2\n",
    "go_to(start_location)\n",
    "if(choice ==\"take it\"):\n",
    "    say(current_money + \" was taken by the person in \" + money_place + \".\")\n",
    "else:\n",
    "    say(\"No one took the money, I have\" + current_money + \" dollars.\")\n",
    "\n",
    "\"\"\""
   ]
  },
  {
   "cell_type": "code",
   "execution_count": 78,
   "metadata": {},
   "outputs": [],
   "source": [
    "df.loc[len(df)] =['Only stop after finish visiting all the room', no_stop_after_all_rooms]"
   ]
  },
  {
   "cell_type": "code",
   "execution_count": 34,
   "metadata": {},
   "outputs": [],
   "source": [
    "no_stop_after_16 = \"\"\" \n",
    "#only stop after money exceeds 16\n",
    "all_rooms = get_all_rooms()\n",
    "current_money = 1\n",
    "keeping = True\n",
    "start_location = get_current_location()\n",
    "for room in all_rooms:\n",
    "    if \"office\" in room:\n",
    "        go_to(room)\n",
    "        if is_in_room(\"person\"):\n",
    "            say(\"I have \" + current_money + \" dollars.\")\n",
    "            choice = ask(\"Do you want to double it and offer it to the next person, or take it yourself?\", [\"double it\", \"take it\"])\n",
    "            if(choice == \"take it\"):\n",
    "                money_place = get_current_location()\n",
    "                go_to(start_location)\n",
    "                break\n",
    "            current_money = current_money*2\n",
    "\n",
    "if(choice ==\"take it\"):\n",
    "    say(current_money + \" was taken by the person in \" + money_place + \".\")\n",
    "else:\n",
    "    say(\"No one took the money, I have\" + current_money + \" dollars.\")\n",
    "\"\"\""
   ]
  },
  {
   "cell_type": "code",
   "execution_count": 79,
   "metadata": {},
   "outputs": [],
   "source": [
    "df.loc[len(df)] =['Only stop after money exceeds 16',no_stop_after_16]"
   ]
  },
  {
   "attachments": {},
   "cell_type": "markdown",
   "metadata": {},
   "source": [
    "Need to visit each room ONCE"
   ]
  },
  {
   "cell_type": "code",
   "execution_count": 36,
   "metadata": {},
   "outputs": [],
   "source": [
    "visit_each_room_more_than_once = \"\"\" \n",
    "#visit rooms more than once\n",
    "all_rooms = get_all_rooms()\n",
    "current_money = 1\n",
    "keeping = True\n",
    "start_location = get_current_location()\n",
    "go_to(\"Arjun's office\")\n",
    "if is_in_room(\"person\"):\n",
    "    say(\"I have \" + current_money + \" dollars.\")\n",
    "    choice = ask(\"Do you want to double it and offer it to the next person, or take it yourself?\", [\"double it\", \"take it\"])\n",
    "    if(choice == \"take it\"):\n",
    "        money_place = get_current_location()\n",
    "        go_to(start_location)\n",
    "    if (current_money > 16):\n",
    "        go_to(start_location)\n",
    "    current_money = current_money*2\n",
    "\n",
    "    go_to(\"Arjun's office\")\n",
    "    if is_in_room(\"person\"):\n",
    "        say(\"I have \" + current_money + \" dollars.\")\n",
    "        choice = ask(\"Do you want to double it and offer it to the next person, or take it yourself?\", [\"double it\", \"take it\"])\n",
    "        if(choice == \"take it\"):\n",
    "            money_place = get_current_location()\n",
    "            go_to(start_location)\n",
    "        if (current_money > 16):\n",
    "            go_to(start_location)\n",
    "        current_money = current_money*2\n",
    "\n",
    "if(choice ==\"take it\"):\n",
    "    say(current_money + \" was taken by the person in \" + money_place + \".\")\n",
    "else:\n",
    "    say(\"No one took the money, I have\" + current_money + \" dollars.\")\n",
    "\"\"\""
   ]
  },
  {
   "cell_type": "code",
   "execution_count": 80,
   "metadata": {},
   "outputs": [],
   "source": [
    "df.loc[len(df)] =['visit rooms more than once', visit_each_room_more_than_once]"
   ]
  },
  {
   "attachments": {},
   "cell_type": "markdown",
   "metadata": {},
   "source": [
    "Has to say and ask the correct things if there is a person in the room"
   ]
  },
  {
   "cell_type": "code",
   "execution_count": 38,
   "metadata": {},
   "outputs": [],
   "source": [
    "say_incorrect_things = \"\"\"\n",
    "#Has to say and ask the correct things if there is a person in the room\n",
    "all_rooms = get_all_rooms()\n",
    "current_money = 1\n",
    "keeping = True\n",
    "start_location = get_current_location()\n",
    "for room in all_rooms:\n",
    "    if (current_money > 16):\n",
    "        break\n",
    "    if \"office\" in room:\n",
    "        go_to(room)\n",
    "        say(\"How much money I have.\")\n",
    "        choice = ask(\"Do you want to double it and offer it to the next person, or take it yourself?\", [\"double it\", \"take it\"])\n",
    "        if(choice == \"take it\"):\n",
    "            money_place = get_current_location()\n",
    "            go_to(start_location)\n",
    "            break\n",
    "        current_money = current_money*2\n",
    "\n",
    "if(choice ==\"take it\"):\n",
    "    say(current_money + \" was taken by the person in \" + money_place + \".\")\n",
    "else:\n",
    "    say(\"No one took the money, I have\" + current_money + \" dollars.\")\n",
    "\"\"\""
   ]
  },
  {
   "cell_type": "code",
   "execution_count": 81,
   "metadata": {},
   "outputs": [],
   "source": [
    "df.loc[len(df)] = ['Has to say and ask the correct things if there is a person in the room',say_incorrect_things]"
   ]
  },
  {
   "cell_type": "code",
   "execution_count": 40,
   "metadata": {},
   "outputs": [],
   "source": [
    "ask_incorrect_things = \"\"\"\n",
    "#Has to ask the correct things if there is a person in the room\n",
    "all_rooms = get_all_rooms()\n",
    "current_money = 1\n",
    "keeping = True\n",
    "start_location = get_current_location()\n",
    "for room in all_rooms:\n",
    "    if (current_money > 16):\n",
    "        break\n",
    "    if \"office\" in room:\n",
    "        go_to(room)\n",
    "        say(\"I have \" + current_money + \" dollars.\")\n",
    "        choice = ask(\"\", [\"double it\", \"take it\"])\n",
    "        if(choice == \"take it\"):\n",
    "            say(\"You will get \" + current_money + \" dollars.\")\n",
    "            money_place = get_current_location()\n",
    "            go_to(start_location)\n",
    "            break\n",
    "        current_money = current_money*2\n",
    "\n",
    "if(choice ==\"take it\"):\n",
    "    say(current_money + \" was taken by the person in \" + money_place + \".\")\n",
    "else:\n",
    "    say(\"No one took the money, I have\" + current_money + \" dollars.\")\n",
    "\"\"\""
   ]
  },
  {
   "cell_type": "code",
   "execution_count": 41,
   "metadata": {},
   "outputs": [],
   "source": [
    "df.loc[len(df)] = ['Has to ask the correct things if there is a person in the room', ask_incorrect_things]"
   ]
  },
  {
   "cell_type": "code",
   "execution_count": 42,
   "metadata": {},
   "outputs": [],
   "source": [
    "ask_answers_incorrect = \"\"\"\n",
    "#the answers to the asked questions are incorrect\n",
    "all_rooms = get_all_rooms()\n",
    "current_money = 1\n",
    "keeping = True\n",
    "start_location = get_current_location()\n",
    "for room in all_rooms:\n",
    "    if (current_money > 16):\n",
    "        break\n",
    "    if \"office\" in room:\n",
    "        go_to(room)\n",
    "        say(\"I have \" + current_money + \" dollars.\")\n",
    "        choice = ask(\"Do you want to double it and offer it to the next person, or take it yourself?\", [\"yes\", \"no\"])\n",
    "        if(choice == \"take it\"):\n",
    "            money_place = get_current_location()\n",
    "            go_to(start_location)\n",
    "            break\n",
    "        current_money = current_money*2\n",
    "\n",
    "if(choice ==\"take it\"):\n",
    "    say(current_money + \" was taken by the person in \" + money_place + \".\")\n",
    "else:\n",
    "    say(\"No one took the money, I have\" + current_money + \" dollars.\")\n",
    "\"\"\""
   ]
  },
  {
   "cell_type": "code",
   "execution_count": 83,
   "metadata": {},
   "outputs": [],
   "source": [
    "df.loc[len(df)] = ['the answers to the asked questions are incorrect', ask_answers_incorrect]"
   ]
  },
  {
   "attachments": {},
   "cell_type": "markdown",
   "metadata": {},
   "source": [
    "In each room, say must precede ask"
   ]
  },
  {
   "cell_type": "code",
   "execution_count": 43,
   "metadata": {},
   "outputs": [],
   "source": [
    "say_not_first = \"\"\" \n",
    "#In each room, say must precede ask\n",
    "all_rooms = get_all_rooms()\n",
    "current_money = 1\n",
    "keeping = True\n",
    "start_location = get_current_location()\n",
    "for room in all_rooms:\n",
    "    if (current_money > 16):\n",
    "        break\n",
    "    if \"office\" in room:\n",
    "        go_to(room)\n",
    "        choice = ask(\"Do you want to double it and offer it to the next person, or take it yourself?\", [\"double it\", \"take it\"])\n",
    "        say(\"I have \" + current_money + \" dollars.\")\n",
    "        if(choice == \"take it\"):\n",
    "            say(\"You now have \" + current_money + \" dollars.\")\n",
    "            money_place = get_current_location()\n",
    "            go_to(start_location)\n",
    "            break\n",
    "        current_money = current_money*2\n",
    "\n",
    "if(choice ==\"take it\"):\n",
    "    say(current_money + \" was taken by the person in \" + money_place + \".\")\n",
    "else:\n",
    "    say(\"No one took the money, I have\" + current_money + \" dollars.\")\n",
    "\"\"\""
   ]
  },
  {
   "cell_type": "code",
   "execution_count": 84,
   "metadata": {},
   "outputs": [
    {
     "data": {
      "text/html": [
       "<div>\n",
       "<style scoped>\n",
       "    .dataframe tbody tr th:only-of-type {\n",
       "        vertical-align: middle;\n",
       "    }\n",
       "\n",
       "    .dataframe tbody tr th {\n",
       "        vertical-align: top;\n",
       "    }\n",
       "\n",
       "    .dataframe thead th {\n",
       "        text-align: right;\n",
       "    }\n",
       "</style>\n",
       "<table border=\"1\" class=\"dataframe\">\n",
       "  <thead>\n",
       "    <tr style=\"text-align: right;\">\n",
       "      <th></th>\n",
       "      <th>description</th>\n",
       "      <th>program</th>\n",
       "    </tr>\n",
       "  </thead>\n",
       "  <tbody>\n",
       "    <tr>\n",
       "      <th>0</th>\n",
       "      <td>good</td>\n",
       "      <td>\\n# good\\nall_rooms = get_all_rooms()\\ncurrent...</td>\n",
       "    </tr>\n",
       "    <tr>\n",
       "      <th>1</th>\n",
       "      <td>say instead of ask</td>\n",
       "      <td>\\n# good\\nall_rooms = get_all_rooms()\\ncurrent...</td>\n",
       "    </tr>\n",
       "    <tr>\n",
       "      <th>2</th>\n",
       "      <td>does not check to see if there is a person in ...</td>\n",
       "      <td>\\n# good\\nall_rooms = get_all_rooms()\\ncurrent...</td>\n",
       "    </tr>\n",
       "    <tr>\n",
       "      <th>3</th>\n",
       "      <td>says follow-up in wrong room</td>\n",
       "      <td>\\n# good\\nall_rooms = get_all_rooms()\\ncurrent...</td>\n",
       "    </tr>\n",
       "    <tr>\n",
       "      <th>4</th>\n",
       "      <td>Has to keep track of how much money to have ri...</td>\n",
       "      <td>\\n#Has to keep track of how much money to have...</td>\n",
       "    </tr>\n",
       "  </tbody>\n",
       "</table>\n",
       "</div>"
      ],
      "text/plain": [
       "                                         description  \\\n",
       "0                                               good   \n",
       "1                                 say instead of ask   \n",
       "2  does not check to see if there is a person in ...   \n",
       "3                       says follow-up in wrong room   \n",
       "4  Has to keep track of how much money to have ri...   \n",
       "\n",
       "                                             program  \n",
       "0  \\n# good\\nall_rooms = get_all_rooms()\\ncurrent...  \n",
       "1  \\n# good\\nall_rooms = get_all_rooms()\\ncurrent...  \n",
       "2  \\n# good\\nall_rooms = get_all_rooms()\\ncurrent...  \n",
       "3  \\n# good\\nall_rooms = get_all_rooms()\\ncurrent...  \n",
       "4  \\n#Has to keep track of how much money to have...  "
      ]
     },
     "execution_count": 84,
     "metadata": {},
     "output_type": "execute_result"
    }
   ],
   "source": [
    "df.loc[len(df)] = ['In each room, say must precede ask', say_not_first]\n",
    "df.head()"
   ]
  },
  {
   "attachments": {},
   "cell_type": "markdown",
   "metadata": {},
   "source": [
    "Has to handle if there is not a person in the room (don’t do anything and go to the next room)"
   ]
  },
  {
   "cell_type": "code",
   "execution_count": 14,
   "metadata": {},
   "outputs": [],
   "source": [
    "no_person = \"\"\"\n",
    "#Has to handle if there is not a person in the room (dont do anything and go to the next room)\n",
    "all_rooms = get_all_rooms()\n",
    "current_money = 1\n",
    "keeping = True\n",
    "start_location = get_current_location()\n",
    "for room in all_rooms:\n",
    "    if (current_money > 16):\n",
    "        break\n",
    "    if \"office\" in room:\n",
    "        go_to(room)\n",
    "        say(\"I have \" + current_money + \" dollars.\")\n",
    "        choice = ask(\"Do you want to double it and offer it to the next person, or take it yourself?\", [\"double it\", \"take it\"])\n",
    "        if(choice == \"take it\"):\n",
    "            money_place = get_current_location()\n",
    "            go_to(start_location)\n",
    "            break\n",
    "        current_money = current_money*2\n",
    "\n",
    "if(choice ==\"take it\"):\n",
    "    say(current_money + \" was taken by the person in \" + money_place + \".\")\n",
    "else:\n",
    "    say(\"No one took the money, I have\" + current_money + \" dollars.\") \"\"\""
   ]
  },
  {
   "cell_type": "code",
   "execution_count": 86,
   "metadata": {},
   "outputs": [],
   "source": [
    "df.loc[len(df)] = ['Has to handle if there is not a person in the room (don’t do anything and go to the next room)', no_person]"
   ]
  },
  {
   "attachments": {},
   "cell_type": "markdown",
   "metadata": {},
   "source": [
    "Has to come back at the end"
   ]
  },
  {
   "cell_type": "code",
   "execution_count": 87,
   "metadata": {},
   "outputs": [],
   "source": [
    "no_return = \"\"\"\n",
    "#Has to come back at the end\n",
    "all_rooms = get_all_rooms()\n",
    "current_money = 1\n",
    "keeping = True\n",
    "start_location = get_current_location()\n",
    "for room in all_rooms:\n",
    "    if (current_money > 16):\n",
    "        break\n",
    "    if \"office\" in room:\n",
    "        go_to(room)\n",
    "        if is_in_room(\"person\"):\n",
    "            say(\"I have \" + current_money + \" dollars.\")\n",
    "            choice = ask(\"Do you want to double it and offer it to the next person, or take it yourself?\", [\"double it\", \"take it\"])\n",
    "            if(choice == \"take it\"):\n",
    "                money_place = get_current_location()\n",
    "                break\n",
    "            current_money = current_money*2\n",
    "if(choice ==\"take it\"):\n",
    "    say(current_money + \" was taken by the person in \" + money_place + \".\")\n",
    "else:\n",
    "    say(\"No one took the money, I have\" + current_money + \" dollars.\")\n",
    "\"\"\""
   ]
  },
  {
   "cell_type": "code",
   "execution_count": 88,
   "metadata": {},
   "outputs": [],
   "source": [
    "df.loc[len(df)] = ['Has to come back at the end', no_return]"
   ]
  },
  {
   "attachments": {},
   "cell_type": "markdown",
   "metadata": {},
   "source": [
    "Has to say the correct thing at the end "
   ]
  },
  {
   "cell_type": "code",
   "execution_count": 89,
   "metadata": {},
   "outputs": [],
   "source": [
    "says_incorrect = \"\"\"\n",
    "#Has to say the correct thing at the end (says incorrect thing)\n",
    "all_rooms = get_all_rooms()\n",
    "current_money = 1\n",
    "keeping = True\n",
    "start_location = get_current_location()\n",
    "for room in all_rooms:\n",
    "    if (current_money > 16):\n",
    "        break\n",
    "    if \"office\" in room:\n",
    "        go_to(room)\n",
    "        if is_in_room(\"person\"):\n",
    "            say(\"I have \" + current_money + \" dollars.\")\n",
    "            choice = ask(\"Do you want to double it and offer it to the next person, or take it yourself?\", [\"double it\", \"take it\"])\n",
    "            if(choice == \"take it\"):\n",
    "                money_place = get_current_location()\n",
    "                go_to(start_location)\n",
    "                break\n",
    "            current_money = current_money*2\n",
    "\n",
    "if(choice ==\"take it\"):\n",
    "    say(\"where the person took the money and how much the person took.\")\n",
    "else:\n",
    "    say(\"how much money I have.\")\n",
    "\"\"\""
   ]
  },
  {
   "cell_type": "code",
   "execution_count": 90,
   "metadata": {},
   "outputs": [],
   "source": [
    "df.loc[len(df)] = ['Has to say the correct thing at the end ', says_incorrect]"
   ]
  },
  {
   "cell_type": "code",
   "execution_count": 91,
   "metadata": {},
   "outputs": [],
   "source": [
    "say_nothing = \"\"\"\n",
    "#Has to say the correct thing at the end (says nothing)\n",
    "all_rooms = get_all_rooms()\n",
    "current_money = 1\n",
    "keeping = True\n",
    "start_location = get_current_location()\n",
    "for room in all_rooms:\n",
    "    if (current_money > 16):\n",
    "        break\n",
    "    if \"office\" in room:\n",
    "        go_to(room)\n",
    "        if is_in_room(\"person\"):\n",
    "            say(\"I have \" + current_money + \" dollars.\")\n",
    "            choice = ask(\"Do you want to double it and offer it to the next person, or take it yourself?\", [\"double it\", \"take it\"])\n",
    "            if(choice == \"take it\"):\n",
    "                money_place = get_current_location()\n",
    "                go_to(start_location)\n",
    "                break\n",
    "            current_money = current_money*2\n",
    "\"\"\""
   ]
  },
  {
   "cell_type": "code",
   "execution_count": 92,
   "metadata": {},
   "outputs": [],
   "source": [
    "df.loc[len(df)] = ['Has to say the correct thing at the end (not nothing)', say_nothing]"
   ]
  },
  {
   "attachments": {},
   "cell_type": "markdown",
   "metadata": {},
   "source": [
    "Has to start with one dollar"
   ]
  },
  {
   "cell_type": "code",
   "execution_count": 93,
   "metadata": {},
   "outputs": [],
   "source": [
    "zero_dollar = \"\"\"\n",
    "#Has to start with one dollar\n",
    "all_rooms = get_all_rooms()\n",
    "current_money = 0\n",
    "keeping = True\n",
    "start_location = get_current_location()\n",
    "for room in all_rooms:\n",
    "    if (current_money > 16):\n",
    "        break\n",
    "    if \"office\" in room:\n",
    "        go_to(room)\n",
    "        if is_in_room(\"person\"):\n",
    "            say(\"I have \" + current_money + \" dollars.\")\n",
    "            choice = ask(\"Do you want to double it and offer it to the next person, or take it yourself?\", [\"double it\", \"take it\"])\n",
    "            if(choice == \"take it\"):\n",
    "                money_place = get_current_location()\n",
    "                go_to(start_location)\n",
    "                break\n",
    "            current_money = current_money*2\n",
    "\n",
    "if(choice ==\"take it\"):\n",
    "    say(current_money + \" was taken by the person in \" + money_place + \".\")\n",
    "else:\n",
    "    say(\"No one took the money, I have\" + current_money + \" dollars.\")\n",
    "\"\"\""
   ]
  },
  {
   "cell_type": "code",
   "execution_count": 94,
   "metadata": {},
   "outputs": [],
   "source": [
    "df.loc[len(df)] = ['Has to start with one dollar', zero_dollar]"
   ]
  },
  {
   "attachments": {},
   "cell_type": "markdown",
   "metadata": {},
   "source": [
    "Should not hallucinate rooms that do not exist"
   ]
  },
  {
   "cell_type": "code",
   "execution_count": 95,
   "metadata": {},
   "outputs": [],
   "source": [
    "fake_room = \"\"\"\n",
    "#Should not hallucinate rooms that do not exist\n",
    "all_rooms = get_all_rooms()\n",
    "current_money = 1\n",
    "keeping = True\n",
    "start_location = get_current_location()\n",
    "go_to(\"Arjun's office\")\n",
    "if is_in_room(\"person\"):\n",
    "    say(\"I have \" + current_money + \" dollars.\")\n",
    "    choice = ask(\"Do you want to double it and offer it to the next person, or take it yourself?\", [\"double it\", \"take it\"])\n",
    "    if(choice == \"take it\"):\n",
    "        money_place = get_current_location()\n",
    "        go_to(start_location)\n",
    "    if (current_money > 16):\n",
    "        go_to(start_location)\n",
    "    current_money = current_money*2\n",
    "\n",
    "    go_to(\"Alice's office\")\n",
    "    if is_in_room(\"person\"):\n",
    "        say(\"I have \" + current_money + \" dollars.\")\n",
    "        choice = ask(\"Do you want to double it and offer it to the next person, or take it yourself?\", [\"double it\", \"take it\"])\n",
    "        if(choice == \"take it\"):\n",
    "            money_place = get_current_location()\n",
    "            go_to(start_location)\n",
    "        if (current_money > 16):\n",
    "            go_to(start_location)\n",
    "        current_money = current_money*2\n",
    "\n",
    "if(choice ==\"take it\"):\n",
    "    say(current_money + \" was taken by the person in \" + money_place + \".\")\n",
    "else:\n",
    "    say(\"No one took the money, I have\" + current_money + \" dollars.\")\n",
    "\"\"\""
   ]
  },
  {
   "cell_type": "code",
   "execution_count": 96,
   "metadata": {},
   "outputs": [],
   "source": [
    "df.loc[len(df)] = ['Should not hallucinate rooms that do not exist', fake_room]"
   ]
  },
  {
   "cell_type": "code",
   "execution_count": 105,
   "metadata": {},
   "outputs": [],
   "source": [
    "df.to_json(\"double_examples_2.txt\", orient=\"records\", lines=True)"
   ]
  },
  {
   "cell_type": "code",
   "execution_count": 106,
   "metadata": {},
   "outputs": [
    {
     "data": {
      "text/html": [
       "<div>\n",
       "<style scoped>\n",
       "    .dataframe tbody tr th:only-of-type {\n",
       "        vertical-align: middle;\n",
       "    }\n",
       "\n",
       "    .dataframe tbody tr th {\n",
       "        vertical-align: top;\n",
       "    }\n",
       "\n",
       "    .dataframe thead th {\n",
       "        text-align: right;\n",
       "    }\n",
       "</style>\n",
       "<table border=\"1\" class=\"dataframe\">\n",
       "  <thead>\n",
       "    <tr style=\"text-align: right;\">\n",
       "      <th></th>\n",
       "      <th>description</th>\n",
       "      <th>program</th>\n",
       "    </tr>\n",
       "  </thead>\n",
       "  <tbody>\n",
       "    <tr>\n",
       "      <th>0</th>\n",
       "      <td>good</td>\n",
       "      <td>\\n# good\\nall_rooms = get_all_rooms()\\ncurrent...</td>\n",
       "    </tr>\n",
       "    <tr>\n",
       "      <th>1</th>\n",
       "      <td>say instead of ask</td>\n",
       "      <td>\\n# good\\nall_rooms = get_all_rooms()\\ncurrent...</td>\n",
       "    </tr>\n",
       "    <tr>\n",
       "      <th>2</th>\n",
       "      <td>does not check to see if there is a person in ...</td>\n",
       "      <td>\\n# good\\nall_rooms = get_all_rooms()\\ncurrent...</td>\n",
       "    </tr>\n",
       "    <tr>\n",
       "      <th>3</th>\n",
       "      <td>says follow-up in wrong room</td>\n",
       "      <td>\\n# good\\nall_rooms = get_all_rooms()\\ncurrent...</td>\n",
       "    </tr>\n",
       "    <tr>\n",
       "      <th>4</th>\n",
       "      <td>Has to keep track of how much money to have ri...</td>\n",
       "      <td>\\n#Has to keep track of how much money to have...</td>\n",
       "    </tr>\n",
       "  </tbody>\n",
       "</table>\n",
       "</div>"
      ],
      "text/plain": [
       "                                         description  \\\n",
       "0                                               good   \n",
       "1                                 say instead of ask   \n",
       "2  does not check to see if there is a person in ...   \n",
       "3                       says follow-up in wrong room   \n",
       "4  Has to keep track of how much money to have ri...   \n",
       "\n",
       "                                             program  \n",
       "0  \\n# good\\nall_rooms = get_all_rooms()\\ncurrent...  \n",
       "1  \\n# good\\nall_rooms = get_all_rooms()\\ncurrent...  \n",
       "2  \\n# good\\nall_rooms = get_all_rooms()\\ncurrent...  \n",
       "3  \\n# good\\nall_rooms = get_all_rooms()\\ncurrent...  \n",
       "4  \\n#Has to keep track of how much money to have...  "
      ]
     },
     "execution_count": 106,
     "metadata": {},
     "output_type": "execute_result"
    }
   ],
   "source": [
    "df_2 = pd.read_json(\"double_examples_2.txt\", lines=True)\n",
    "df_2.head()"
   ]
  },
  {
   "cell_type": "code",
   "execution_count": 7,
   "metadata": {},
   "outputs": [
    {
     "name": "stdout",
     "output_type": "stream",
     "text": [
      "\n",
      "start_loc = get_current_location()\n",
      "go_to(\"elevator\")\n",
      "while True:\n",
      "    if is_in_room(\"person\"):\n",
      "        response = ask(\"\", \"Are you here for the tour?\", [\"Yes\", \"No\"])\n",
      "        if response == \"Yes\":\n",
      "            break\n",
      "    time.sleep(1)\n",
      "say(\"Welcome to the university! Please follow me.\")\n",
      "go_to(\"conference room\")\n",
      "say(\"I have arrived at the conference room.\")\n",
      "say(\"Enjoy your visit here!\") \n"
     ]
    }
   ],
   "source": [
    "df1 = pd.read_json(\"tour_examples.txt\", lines = True)\n",
    "df1.head()\n",
    "print(df1['program'][0])"
   ]
  },
  {
   "cell_type": "code",
   "execution_count": 9,
   "metadata": {},
   "outputs": [
    {
     "data": {
      "text/html": [
       "<div>\n",
       "<style scoped>\n",
       "    .dataframe tbody tr th:only-of-type {\n",
       "        vertical-align: middle;\n",
       "    }\n",
       "\n",
       "    .dataframe tbody tr th {\n",
       "        vertical-align: top;\n",
       "    }\n",
       "\n",
       "    .dataframe thead th {\n",
       "        text-align: right;\n",
       "    }\n",
       "</style>\n",
       "<table border=\"1\" class=\"dataframe\">\n",
       "  <thead>\n",
       "    <tr style=\"text-align: right;\">\n",
       "      <th></th>\n",
       "      <th>description</th>\n",
       "      <th>program</th>\n",
       "    </tr>\n",
       "  </thead>\n",
       "  <tbody>\n",
       "    <tr>\n",
       "      <th>0</th>\n",
       "      <td>good</td>\n",
       "      <td>\\nstart_loc = get_current_location()\\ngo_to(\"e...</td>\n",
       "    </tr>\n",
       "    <tr>\n",
       "      <th>1</th>\n",
       "      <td>does not ask if the person is here for the tour</td>\n",
       "      <td>\\nstart_loc = get_current_location()\\ngo_to(\"e...</td>\n",
       "    </tr>\n",
       "    <tr>\n",
       "      <th>2</th>\n",
       "      <td>does not go to the elevator</td>\n",
       "      <td>\\nstart_loc = get_current_location()\\ngo_to(st...</td>\n",
       "    </tr>\n",
       "    <tr>\n",
       "      <th>3</th>\n",
       "      <td>does not check to see if there is a person</td>\n",
       "      <td>\\nstart_loc = get_current_location()\\ngo_to(\"e...</td>\n",
       "    </tr>\n",
       "    <tr>\n",
       "      <th>4</th>\n",
       "      <td>does not wait for there to be a person</td>\n",
       "      <td>\\nstart_loc = get_current_location()\\ngo_to(\"e...</td>\n",
       "    </tr>\n",
       "    <tr>\n",
       "      <th>5</th>\n",
       "      <td>does not take the person to the confrence room</td>\n",
       "      <td>\\nstart_loc = get_current_location()\\ngo_to(\"e...</td>\n",
       "    </tr>\n",
       "    <tr>\n",
       "      <th>6</th>\n",
       "      <td>does not tell the person to enjoy their visit</td>\n",
       "      <td>\\nstart_loc = get_current_location()\\ngo_to(\"e...</td>\n",
       "    </tr>\n",
       "    <tr>\n",
       "      <th>7</th>\n",
       "      <td>actual incorrect test generated by StarCoder</td>\n",
       "      <td>\\nstart_loc = get_current_location()\\ngo_to(\"e...</td>\n",
       "    </tr>\n",
       "  </tbody>\n",
       "</table>\n",
       "</div>"
      ],
      "text/plain": [
       "                                       description  \\\n",
       "0                                             good   \n",
       "1  does not ask if the person is here for the tour   \n",
       "2                      does not go to the elevator   \n",
       "3       does not check to see if there is a person   \n",
       "4           does not wait for there to be a person   \n",
       "5   does not take the person to the confrence room   \n",
       "6    does not tell the person to enjoy their visit   \n",
       "7     actual incorrect test generated by StarCoder   \n",
       "\n",
       "                                             program  \n",
       "0  \\nstart_loc = get_current_location()\\ngo_to(\"e...  \n",
       "1  \\nstart_loc = get_current_location()\\ngo_to(\"e...  \n",
       "2  \\nstart_loc = get_current_location()\\ngo_to(st...  \n",
       "3  \\nstart_loc = get_current_location()\\ngo_to(\"e...  \n",
       "4  \\nstart_loc = get_current_location()\\ngo_to(\"e...  \n",
       "5  \\nstart_loc = get_current_location()\\ngo_to(\"e...  \n",
       "6  \\nstart_loc = get_current_location()\\ngo_to(\"e...  \n",
       "7  \\nstart_loc = get_current_location()\\ngo_to(\"e...  "
      ]
     },
     "execution_count": 9,
     "metadata": {},
     "output_type": "execute_result"
    }
   ],
   "source": [
    "df1.head(8)"
   ]
  }
 ],
 "metadata": {
  "kernelspec": {
   "display_name": "Python 3",
   "language": "python",
   "name": "python3"
  },
  "language_info": {
   "codemirror_mode": {
    "name": "ipython",
    "version": 3
   },
   "file_extension": ".py",
   "mimetype": "text/x-python",
   "name": "python",
   "nbconvert_exporter": "python",
   "pygments_lexer": "ipython3",
   "version": "3.11.3"
  },
  "orig_nbformat": 4
 },
 "nbformat": 4,
 "nbformat_minor": 2
}
