{
 "cells": [
  {
   "cell_type": "code",
   "execution_count": 22,
   "metadata": {},
   "outputs": [],
   "source": [
    "import matplotlib.pyplot as plt\n",
    "import numpy as np\n",
    "import pandas as pd"
   ]
  },
  {
   "cell_type": "code",
   "execution_count": 41,
   "metadata": {},
   "outputs": [],
   "source": [
    "## from pass_k\n",
    "def estimator(n: int, c: int, k: int) -> float:\n",
    "    \"\"\"\n",
    "    Calculates 1 - comb(n - c, k) / comb(n, k).\n",
    "    \"\"\"\n",
    "    if n - c < k:\n",
    "        return 1.0\n",
    "    return 1.0 - np.prod(1.0 - k / np.arange(n - c + 1, n + 1))\n",
    "\n",
    "def evaluate_data_3(df: pd.DataFrame, k: int, print_data=True):\n",
    "    # State is unhashable, so we convert it to a string\n",
    "    df[\"state_str\"] = df[\"state\"].apply(lambda x: str(x))\n",
    "    df = df[[\"name\", \"state_str\", \"constraint\", \"completion\", \"is_sat\"]]\n",
    "    \n",
    "    df = df.groupby([\"name\", \"state_str\"])\n",
    "    df = df.agg(c=(\"is_sat\", pd.Series.sum),\n",
    "                n=(\"is_sat\", pd.Series.count))\n",
    "    \n",
    "    df[\"pass1\"]  = df.apply(lambda row: estimator(row[\"n\"], row[\"c\"], 1), axis=1)\n",
    "    df = df.drop(columns=[\"c\"])\n",
    "\n",
    "    if print_data:\n",
    "        with pd.option_context('display.max_rows', None, 'display.max_columns', None):\n",
    "            print(df)\n",
    "    return df\n",
    "\n",
    "def calculate_results_table(eval_df: pd.DataFrame, print_table=True):\n",
    "    def normalize(row):\n",
    "        row[\"name\"] = row[\"name\"].split(\"-\")[0]\n",
    "        return row\n",
    "    \n",
    "    df = eval_df.reset_index(level=[0,1])\n",
    "\n",
    "    state_means = df.groupby([\"name\"])[\"pass1\"].mean().rename(\"state_mean\").to_frame()\n",
    "    state_means.reset_index(level=[0], inplace=True)\n",
    "    \n",
    "    norm_state_means = state_means.apply(lambda row: normalize(row), axis=1)\n",
    "    \n",
    "    prompt_means = norm_state_means.groupby([\"name\"])[\"state_mean\"].mean().rename(\"mean\")\n",
    "    maxes = norm_state_means.groupby([\"name\"])[\"state_mean\"].max().rename(\"max\")\n",
    "    mins = norm_state_means.groupby([\"name\"])[\"state_mean\"].min().rename(\"min\")\n",
    "\n",
    "    results = pd.concat([maxes, mins, prompt_means], axis=1)\n",
    "    \n",
    "    results[\"+-\"] = results.apply(lambda row: max(row[\"max\"] - row[\"mean\"],\n",
    "                                                     row[\"mean\"] - row[\"min\"]), axis=1)\n",
    "    results = results.apply(lambda row: round(row, 3))\n",
    "    results = results.reset_index(level=[0])\n",
    "    if print_table:\n",
    "        print(results)\n",
    "    return results"
   ]
  },
  {
   "cell_type": "code",
   "execution_count": 42,
   "metadata": {},
   "outputs": [],
   "source": [
    "palm_df = pd.read_json(open(\"palm_eval.jsonl\",\"r\"), lines=True)\n",
    "palm_df3 = evaluate_data_3(palm_df, 1, print_data=False)\n",
    "palm_res = calculate_results_table(palm_df3, print_table=False)\n",
    "\n",
    "gpt_df = pd.read_json(open(\"gpt_eval.jsonl\",\"r\"), lines=True)\n",
    "gpt_df3 = evaluate_data_3(gpt_df, 1, print_data=False)\n",
    "gpt_res = calculate_results_table(gpt_df3, print_table=False)\n",
    "\n",
    "star_df = pd.read_json(open(\"starcoder_eval.jsonl\",\"r\"), lines=True)\n",
    "star_df3 = evaluate_data_3(star_df, 1, print_data=False)\n",
    "star_res = calculate_results_table(star_df3, print_table=False)"
   ]
  },
  {
   "cell_type": "code",
   "execution_count": 48,
   "metadata": {},
   "outputs": [
    {
     "name": "stdout",
     "output_type": "stream",
     "text": [
      "[[0.016 0.15  0.148 0.33  0.7  ]\n",
      " [0.034 0.2   0.09  0.37  0.25 ]]\n",
      "             name    max  min   mean     +-\n",
      "0    ElevatorTour  1.000  1.0  1.000  0.000\n",
      "1   HalloweenList  1.000  0.9  0.980  0.080\n",
      "2      LunchBreak  0.238  0.0  0.095  0.142\n",
      "3  MovieMessenger  1.000  1.0  1.000  0.000\n",
      "4   StaplerSupply  0.950  0.0  0.510  0.510\n"
     ]
    },
    {
     "data": {
      "text/plain": [
       "([<matplotlib.axis.XTick at 0x7f15cf40bac0>,\n",
       "  <matplotlib.axis.XTick at 0x7f15cf40baf0>,\n",
       "  <matplotlib.axis.XTick at 0x7f15cf40bf40>,\n",
       "  <matplotlib.axis.XTick at 0x7f15cf488b80>,\n",
       "  <matplotlib.axis.XTick at 0x7f15cf489630>],\n",
       " [Text(0.25, 0, 'ElevatorTour'),\n",
       "  Text(1.25, 0, 'HalloweenList'),\n",
       "  Text(2.25, 0, 'LunchBreak'),\n",
       "  Text(3.25, 0, 'MovieMessenger'),\n",
       "  Text(4.25, 0, 'StaplerSupply')])"
      ]
     },
     "execution_count": 48,
     "metadata": {},
     "output_type": "execute_result"
    },
    {
     "data": {
      "image/png": "[encoded data removed]",
      "text/plain": [
       "<Figure size 800x400 with 1 Axes>"
      ]
     },
     "metadata": {},
     "output_type": "display_data"
    }
   ],
   "source": [
    "tasks_len = 5\n",
    "palm = np.array(palm_res[\"mean\"].tolist())\n",
    "palm_min = np.array(palm_res[\"min\"].tolist())\n",
    "palm_max = np.array(palm_res[\"max\"].tolist())\n",
    "\n",
    "starcoder = np.array(star_res[\"mean\"].tolist())\n",
    "starcoder_min = np.array(star_res[\"min\"].tolist())\n",
    "starcoder_max = np.array(star_res[\"max\"].tolist())\n",
    "\n",
    "gpt = np.array(gpt_res[\"mean\"].tolist())\n",
    "gpt_min = np.array(gpt_res[\"min\"].tolist())\n",
    "gpt_max = np.array(gpt_res[\"max\"].tolist())\n",
    "\n",
    "barWidth = 0.25\n",
    "br1 = np.arange(tasks_len)\n",
    "br2 = [x + barWidth for x in br1]\n",
    "br3 = [x + barWidth for x in br2]\n",
    "\n",
    "\n",
    "palm_err = abs(np.array([palm_min, palm_max]) - palm)\n",
    "starcoder_err = abs(np.array([starcoder_min, starcoder_max]) - starcoder)\n",
    "gpt_err = abs(np.array([gpt_min, gpt_max]) - gpt)\n",
    "\n",
    "print(starcoder_err)\n",
    "plt.figure(figsize=[8,4])\n",
    "plt.bar(br1,palm, color ='r', width = barWidth, yerr=palm_err)\n",
    "plt.bar(br2,starcoder, color ='g',width = barWidth, yerr=starcoder_err)\n",
    "plt.bar(br3,gpt, color ='b',width = barWidth, yerr=gpt_err)\n",
    "\n",
    "print(palm_res)\n",
    "assert palm_res[\"name\"].tolist() == star_res[\"name\"].tolist() == gpt_res[\"name\"].tolist()\n",
    "assert len(palm_res[\"name\"].tolist()) == tasks_len\n",
    "\n",
    "plt.legend([\"PALM\", \"Starcoder\", \"GPT3.5\"])\n",
    "plt.xticks([r + barWidth for r in range(tasks_len)],\n",
    "        palm_res[\"name\"].tolist())"
   ]
  }
 ],
 "metadata": {
  "kernelspec": {
   "display_name": "codebotler",
   "language": "python",
   "name": "python3"
  },
  "language_info": {
   "codemirror_mode": {
    "name": "ipython",
    "version": 3
   },
   "file_extension": ".py",
   "mimetype": "text/x-python",
   "name": "python",
   "nbconvert_exporter": "python",
   "pygments_lexer": "ipython3",
   "version": "3.10.6"
  },
  "orig_nbformat": 4
 },
 "nbformat": 4,
 "nbformat_minor": 2
}
